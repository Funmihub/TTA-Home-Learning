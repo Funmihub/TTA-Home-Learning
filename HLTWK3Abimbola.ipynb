{
 "cells": [
  {
   "cell_type": "code",
   "execution_count": 7,
   "metadata": {},
   "outputs": [
    {
     "name": "stdout",
     "output_type": "stream",
     "text": [
      "Femi You are most welcome to my website\n",
      "Bus Fare is £50!\n",
      "Thank you and take care\n",
      "Bye\n"
     ]
    }
   ],
   "source": [
    "# ----------------------------------------------------------------\n",
    "# Transport Fare Program\n",
    "# ----------------------------------------------------------------\n",
    "# Student   :   Abimbola Ayeni\n",
    "# Supervisor:   Georgina Stanley\n",
    "#               Technical Trainer\n",
    "# Organization: Tech Talent Academy (TTA)\n",
    "#               55, Colmore Row, \n",
    "#               Birmingham, B3 2AA\n",
    "#            or Origin Workspace, 40 Berkeley Square, \n",
    "#               Bristol, BS8 1HP\n",
    "# ----------------------------------------------------------------\n",
    "#               Data Science: Phyton\n",
    "#               Week 3 (Tuesday, 30.11.21, 4.30pm - 6.00pm)\n",
    "#               Module 2\n",
    "#               Task 1\n",
    "# ----------------------------------------------------------------\n",
    "# TTA: where Talent Meet Tech.\n",
    "# ----------------------------------------------------------------\n",
    "UserName = input (\"What is your name\")\n",
    "#print (UserName)\n",
    "print (UserName, \"You are most welcome to my website\")\n",
    "UserTrans =  int(input(\"W ould you like to travel by Bus or Train, Bus = 1 and Train = 2\"))\n",
    "if UserTrans == 1:\n",
    "#if UserGender == 1:\n",
    "    print(\"Bus Fare is £50!\")\n",
    "elif UserTrans == 2:\n",
    "#elif UserGender == 2:\n",
    "    print(\"Train Fare is £200!\")\n",
    "print (\"Thank you and take care\")\n",
    "print (\"Bye\")\n"
   ]
  },
  {
   "cell_type": "code",
   "execution_count": 31,
   "metadata": {},
   "outputs": [],
   "source": [
    "def function_Depreciation():\n",
    "# ----------------------------------------------------------------\n",
    "# Transport Fare Program\n",
    "# ----------------------------------------------------------------\n",
    "# Student   :   Abimbola Ayeni\n",
    "# Supervisor:   Georgina Stanley\n",
    "#               Technical Trainer\n",
    "# Organization: Tech Talent Academy (TTA)\n",
    "#               55, Colmore Row, \n",
    "#               Birmingham, B3 2AA\n",
    "#            or Origin Workspace, 40 Berkeley Square, \n",
    "#               Bristol, BS8 1HP\n",
    "# ----------------------------------------------------------------\n",
    "#               Data Science: Phyton\n",
    "#               Week 3 (Tuesday, 30.11.21, 4.30pm - 6.00pm)\n",
    "#               Module 2\n",
    "#               Task 2\n",
    "# ----------------------------------------------------------------\n",
    "# TTA: where Talent Meet Tech.\n",
    "# ----------------------------------------------------------------\n",
    "    UserName = input (\"What is your name\")\n",
    "    BikeCost = int(input(\"How much is the cost of the bike\"))\n",
    "    DepRate = int(input (\"What is the rate of the Depreciation\"))\n",
    "    \n",
    "    while BikeCost > 1000:\n",
    "          print(\"Your bike worths:\", BikeCost)\n",
    "          BikeCost = (BikeCost*DepRate)/100\n",
    "    return BikeCost"
   ]
  },
  {
   "cell_type": "code",
   "execution_count": 32,
   "metadata": {},
   "outputs": [
    {
     "name": "stdout",
     "output_type": "stream",
     "text": [
      "Your bike worths: 2000\n"
     ]
    }
   ],
   "source": [
    "FunctionCall = function_Depreciation()"
   ]
  },
  {
   "cell_type": "code",
   "execution_count": null,
   "metadata": {},
   "outputs": [],
   "source": [
    "def procedure"
   ]
  },
  {
   "cell_type": "code",
   "execution_count": 37,
   "metadata": {},
   "outputs": [
    {
     "name": "stdout",
     "output_type": "stream",
     "text": [
      "Hello Handsome!\n",
      "What is your name handsome? Trust you are good\n",
      "fem You are most welcome to my website\n",
      "Great, fem#\n",
      "You will be asked to input two numbers of your choice\n",
      "input the first number of your choice\n",
      "Your first number is  1\n",
      "input the second number of your choice\n",
      "Your second number is  2\n",
      "You will be asked to input the type of mathematical operation you want to perform\n",
      "input a for addition\n",
      "input b for substraction\n",
      "input c for Division\n",
      "input d for Multiplication\n",
      "input e for Square\n"
     ]
    }
   ],
   "source": [
    "# ----------------------------------------------------------------\n",
    "# Transport Fare Program\n",
    "# ----------------------------------------------------------------\n",
    "# Student   :   Abimbola Ayeni\n",
    "# Supervisor:   Georgina Stanley\n",
    "#               Technical Trainer\n",
    "# Organization: Tech Talent Academy (TTA)\n",
    "#               55, Colmore Row, \n",
    "#               Birmingham, B3 2AA\n",
    "#            or Origin Workspace, 40 Berkeley Square, \n",
    "#               Bristol, BS8 1HP\n",
    "# ----------------------------------------------------------------\n",
    "#               Data Science: Phyton\n",
    "#               Week 3 (Tuesday, 30.11.21, 4.30pm - 6.00pm)\n",
    "#               Module 2\n",
    "#               Task 3\n",
    "# ----------------------------------------------------------------\n",
    "# TTA: where Talent Meet Tech.\n",
    "# ----------------------------------------------------------------\n",
    "UserGender = int(input(\"What is your gender? Male = 1 or Female = 2\"))\n",
    "#if UserGender == \"Male\":\n",
    "if UserGender == 1:\n",
    "    print(\"Hello Handsome!\")\n",
    "#elif UserGender == \"Female\":\n",
    "elif UserGender == 2:\n",
    "    print(\"Heloo Pretty!\")\n",
    "if UserGender == 1:\n",
    "    print (\"What is your name handsome?\", \"Trust you are good\")\n",
    "if UserGender == 2:\n",
    "    print (\"What is your name pretty?\", \"Trust you are good\")\n",
    "UserName = input (\"What is your name\")\n",
    "#print (UserName)\n",
    "print (UserName, \"You are most welcome to my website\")\n",
    "print(\"Great, \"+ UserName + \"#\")\n",
    "# .......................................................................\n",
    "print (\"You will be asked to input two numbers of your choice\")\n",
    "print (\"input the first number of your choice\")\n",
    "FirstNumber = input(\"input the first number of your choice\")\n",
    "print(\"Your first number is \", FirstNumber)\n",
    "print (\"input the second number of your choice\")\n",
    "SecondNumber = input(\"input the second number of your choice\")\n",
    "print(\"Your second number is \", SecondNumber)\n",
    "# .......................................................................\n",
    "print (\"You will be asked to input the type of mathematical operation you want to perform\")\n",
    "print (\"input a for addition\")\n",
    "print (\"input b for substraction\")\n",
    "print (\"input c for Division\")\n",
    "print (\"input d for Multiplication\")\n",
    "print (\"input e for Square\")\n",
    "OperatorInput = input(\"input a for (+), b for (-), c for (/), d for (*) and e for (**)\")\n",
    "\n",
    "def procedure_name(a,b,c,d,e):\n",
    "    if sign == <OperatorInput >:\n",
    "        print( <number 1> + <number 2>)\n",
    "    elif sign == <OperatorInput >:\n",
    "        print(<number 1> - <number 2>)\n",
    "    elif sign == <OperatorInput e>:\n",
    "        print(<number 1> / <number 2>)\n",
    "    elif sign == <operator choice>:\n",
    "        print(<number 1> * <number 2>)\n",
    "    elif sign == <OperatorInput>:\n",
    "        print(<number 1> ** <number 2>)\n",
    "    else:\n",
    "        print(\"An appropriate operator was not selected!\")\n",
    "\n",
    "procedure_name(<pass in parameters>)"
   ]
  }
 ],
 "metadata": {
  "interpreter": {
   "hash": "0c57fb0be50ac96d80f1f59f4c2f0eb5f3b52c6e3d6ac6a5abe875596a3b45df"
  },
  "kernelspec": {
   "display_name": "Python 3.10.0 64-bit",
   "language": "python",
   "name": "python3"
  },
  "language_info": {
   "codemirror_mode": {
    "name": "ipython",
    "version": 3
   },
   "file_extension": ".py",
   "mimetype": "text/x-python",
   "name": "python",
   "nbconvert_exporter": "python",
   "pygments_lexer": "ipython3",
   "version": "3.10.0"
  },
  "orig_nbformat": 4
 },
 "nbformat": 4,
 "nbformat_minor": 2
}
