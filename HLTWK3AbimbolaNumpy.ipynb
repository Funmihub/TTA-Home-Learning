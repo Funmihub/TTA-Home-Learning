{
 "cells": [
  {
   "cell_type": "code",
   "execution_count": 1,
   "metadata": {},
   "outputs": [],
   "source": [
    "import numpy as np"
   ]
  },
  {
   "cell_type": "code",
   "execution_count": 5,
   "metadata": {},
   "outputs": [
    {
     "name": "stdout",
     "output_type": "stream",
     "text": [
      "[0 1 2 3 4 5 6 7 8 9]\n"
     ]
    }
   ],
   "source": [
    "# Create a 1D array of numbers from 0 to 9\n",
    "HLT1darray=np.array([0,1,2,3,4,5,6,7,8,9])\n",
    "print(HLT1darray)\n"
   ]
  },
  {
   "cell_type": "code",
   "execution_count": 12,
   "metadata": {},
   "outputs": [
    {
     "name": "stdout",
     "output_type": "stream",
     "text": [
      "[[ True  True  True]\n",
      " [ True  True  True]\n",
      " [ True  True  True]]\n"
     ]
    }
   ],
   "source": [
    "#Create a 3×3 NumPy array of all Boolean value Trues\n",
    "#HLTBooleanarray = np.full((3, 3), True, dtype=bool)\n",
    "HLTBooleanarray = np.full((3, 3), True)\n",
    "print(HLTBooleanarray)\n",
    "#either works)"
   ]
  },
  {
   "cell_type": "code",
   "execution_count": 14,
   "metadata": {},
   "outputs": [
    {
     "name": "stdout",
     "output_type": "stream",
     "text": [
      "[1 3 5 7 9]\n"
     ]
    }
   ],
   "source": [
    "#Extract all odd numbers from array of 1-10\n",
    "HLT1darray2=np.array([1,2,3,4,5,6,7,8,9,10])\n",
    "OddArray=np.arange (1,10,2)\n",
    "print(OddArray)\n"
   ]
  },
  {
   "cell_type": "code",
   "execution_count": 18,
   "metadata": {},
   "outputs": [
    {
     "name": "stdout",
     "output_type": "stream",
     "text": [
      "[ 1  2  3  4  5  6  7  8  9 10]\n",
      "[-1  2 -1  4 -1  6 -1  8 -1 10]\n"
     ]
    }
   ],
   "source": [
    "#Replace all odd numbers in an array of 1-10 with the value -1\n",
    "#HLT1darray3=np.array([1,2,3,4,5,6,7,8,9,10])\n",
    "HLT1darray3=np.arange (1,11,1)\n",
    "print(HLT1darray3)\n",
    "HLT1darray3[HLT1darray3%2==1]=-1\n",
    "print(HLT1darray3)\n"
   ]
  },
  {
   "cell_type": "code",
   "execution_count": 27,
   "metadata": {},
   "outputs": [
    {
     "name": "stdout",
     "output_type": "stream",
     "text": [
      "[ 1  2  3  4  5  6  7  8  9 10 11 12 13 14]\n",
      "[[ 1  2  3  4  5  6  7]\n",
      " [ 8  9 10 11 12 13 14]]\n",
      "[[ 1  2  3  4  5  6  7]\n",
      " [ 8  9 10 11 12 13 14]]\n"
     ]
    }
   ],
   "source": [
    "#Convert a 1D array to a 2D array with 2 rows\n",
    "HLT1darray4=np.arange (1,15,1)\n",
    "print(HLT1darray4)\n",
    "HLT1darray5=HLT1darray4.reshape(2,7)\n",
    "HLT1darray6=np.arange(1,15,1).reshape(2,7)\n",
    "#print('HLT1darray6 = ',HLT1darray6)\n",
    "print(HLT1darray5)\n",
    "print(HLT1darray6)"
   ]
  },
  {
   "cell_type": "code",
   "execution_count": 37,
   "metadata": {},
   "outputs": [
    {
     "name": "stdout",
     "output_type": "stream",
     "text": [
      "[[ 1  2  3]\n",
      " [ 4  5  6]\n",
      " [ 7  8  9]\n",
      " [10 11 12]\n",
      " [13 14 15]\n",
      " [16 17 18]]\n",
      "[[19 20 21 22 23 24]\n",
      " [25 26 27 28 29 30]\n",
      " [31 32 33 34 35 36]]\n",
      "[[ 162  168  174  180  186  192]\n",
      " [ 387  402  417  432  447  462]\n",
      " [ 612  636  660  684  708  732]\n",
      " [ 837  870  903  936  969 1002]\n",
      " [1062 1104 1146 1188 1230 1272]\n",
      " [1287 1338 1389 1440 1491 1542]]\n",
      "28647\n",
      "[4347 4518 4689 4860 5031 5202]\n",
      "[1062 2547 4032 5517 7002 8487]\n"
     ]
    }
   ],
   "source": [
    "#Create two arrays a and b, stack these two arrays vertically use the np.dot and \n",
    "#np.sum to calculate totals\n",
    "aArray = np.arange (1,19).reshape (6,3) \n",
    "print(aArray)\n",
    "bArray = np.arange (19,37).reshape (3,6) \n",
    "print(bArray)\n",
    "cArray = np.dot(aArray, bArray)\n",
    "print(cArray)\n",
    "sumArray=np.sum(cArray)\n",
    "print(sumArray)\n",
    "sumColArray = np.sum(cArray,axis = 0)\n",
    "print(sumColArray)\n",
    "sumRowArray = np.sum(cArray,axis = 1)\n",
    "print(sumRowArray)"
   ]
  },
  {
   "cell_type": "code",
   "execution_count": 45,
   "metadata": {},
   "outputs": [
    {
     "name": "stdout",
     "output_type": "stream",
     "text": [
      "[1 1 1 2 2 2 3 3 3 1 2 3 1 2 3 1 2 3]\n"
     ]
    }
   ],
   "source": [
    "#Create the following pattern without hardcoding. Use only NumPy functions.\n",
    "##[1 1 1 2 2 2 3 3 3 1 2 3 1 2 3 1 2 3]\n",
    "n = 0\n",
    "PatternArr = np.array([n+1, n+1, n+1, n+2, n+2, n+2, n+3, n+3, n+3, n+1, n+2, n+3, n+1, n+2, n+3,n+1, n+2, n+3])\n",
    "print(PatternArr)"
   ]
  },
  {
   "cell_type": "code",
   "execution_count": 71,
   "metadata": {},
   "outputs": [
    {
     "name": "stdout",
     "output_type": "stream",
     "text": [
      "[1 2 3 4 5]\n",
      "[4 5 6 7 8 9]\n",
      "[1 2 3]\n",
      "[6 7 8 9]\n",
      "[1 2 3 4 5 6 7 8 9]\n",
      "25\n"
     ]
    }
   ],
   "source": [
    " #In two arrays a ( 1,2,3,4,5) and b ( 4,5,6,7,8,9) – remove all repeating items present in array b\n",
    "aArray2 = np.arange (1,6)\n",
    "print(aArray2)\n",
    "bArray2 = np.arange (4,10)\n",
    "print(bArray2)\n",
    "cArray2 = np.setdiff1d(aArray2,bArray2)\n",
    "print(cArray2)\n",
    "bArray3 = np.delete(bArray2, [0,1])\n",
    "print(bArray3)\n",
    "dArray = np.concatenate((aArray2,bArray3),axis = 0)\n",
    "print(dArray)\n",
    "eArray = dArray[2]+dArray[3]+dArray[4]+dArray[5]+dArray[6] # Sum up all values in column 5.\n",
    "print(eArray)"
   ]
  }
 ],
 "metadata": {
  "interpreter": {
   "hash": "0c57fb0be50ac96d80f1f59f4c2f0eb5f3b52c6e3d6ac6a5abe875596a3b45df"
  },
  "kernelspec": {
   "display_name": "Python 3.10.0 64-bit",
   "language": "python",
   "name": "python3"
  },
  "language_info": {
   "codemirror_mode": {
    "name": "ipython",
    "version": 3
   },
   "file_extension": ".py",
   "mimetype": "text/x-python",
   "name": "python",
   "nbconvert_exporter": "python",
   "pygments_lexer": "ipython3",
   "version": "3.10.0"
  },
  "orig_nbformat": 4
 },
 "nbformat": 4,
 "nbformat_minor": 2
}
