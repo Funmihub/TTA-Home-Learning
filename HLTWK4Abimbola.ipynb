{
 "cells": [
  {
   "cell_type": "code",
   "execution_count": 13,
   "metadata": {},
   "outputs": [
    {
     "name": "stdout",
     "output_type": "stream",
     "text": [
      "Yemi You are most welcome to my website\n",
      "Your first number is 3\n",
      "Your second number is 45\n",
      "Your third number is 83\n",
      "Your fourth number is 21\n"
     ]
    }
   ],
   "source": [
    "# ----------------------------------------------------------------\n",
    "# Choice Number Program\n",
    "# ----------------------------------------------------------------\n",
    "# Student   :   Abimbola Ayeni\n",
    "# Supervisor:   Georgina Stanley\n",
    "#               Technical Trainer\n",
    "# Organization: Tech Talent Academy (TTA)\n",
    "#               55, Colmore Row, \n",
    "#               Birmingham, B3 2AA\n",
    "#            or Origin Workspace, 40 Berkeley Square, \n",
    "#               Bristol, BS8 1HP\n",
    "# ----------------------------------------------------------------\n",
    "#               Data Science: Phyton\n",
    "#               Week 4 (Tuesday, 07.12.21, 4.30pm - 6.00pm)\n",
    "#               Module 1\n",
    "#               Task 1\n",
    "# ----------------------------------------------------------------\n",
    "# TTA: where Talent Meet Tech.\n",
    "# ----------------------------------------------------------------\n",
    "UserName = input (\"What is your name\")\n",
    "print (UserName, \"You are most welcome to my website\")\n",
    "UserTrans1 =  int(input(\"Enter the first number of your choice\"))\n",
    "print (\"Your first number is\",UserTrans1)\n",
    "UserTrans2 =  int(input(\"Enter the second number of your choice\"))\n",
    "print (\"Your second number is\",UserTrans2)\n",
    "UserTrans3 =  int(input(\"Enter the third number of your choice\"))\n",
    "print (\"Your third number is\",UserTrans3)\n",
    "UserTrans4 =  int(input(\"Enter the fourth number of your choice\"))\n",
    "print (\"Your fourth number is\",UserTrans4)\n",
    "ChoiceNo = open(\"number.txt\",\"w\")\n",
    "ChoiceNo.write(str(UserTrans1))\n",
    "ChoiceNo.write(\"\\n\")\n",
    "ChoiceNo.write(str(UserTrans2))\n",
    "ChoiceNo.write(\"\\n\")\n",
    "ChoiceNo.write(str(UserTrans3))\n",
    "ChoiceNo.write(\"\\n\")\n",
    "ChoiceNo.write(str(UserTrans4))\n",
    "ChoiceNo.write(\"\\n\")\n",
    "#ChoiceNo.write(UserTrans2)\n",
    "ChoiceNo.close()\n"
   ]
  },
  {
   "cell_type": "code",
   "execution_count": 15,
   "metadata": {},
   "outputs": [],
   "source": [
    "def function(mark_grade):\n",
    "# ----------------------------------------------------------------\n",
    "# Choice Number Program\n",
    "# ----------------------------------------------------------------\n",
    "# Student   :   Abimbola Ayeni\n",
    "# Supervisor:   Georgina Stanley\n",
    "#               Technical Trainer\n",
    "# Organization: Tech Talent Academy (TTA)\n",
    "#               55, Colmore Row, \n",
    "#               Birmingham, B3 2AA\n",
    "#            or Origin Workspace, 40 Berkeley Square, \n",
    "#               Bristol, BS8 1HP\n",
    "# ----------------------------------------------------------------\n",
    "#               Data Science: Phyton\n",
    "#               Week 4 (Tuesday, 07.12.21, 4.30pm - 6.00pm)\n",
    "#               Module 1\n",
    "#               Task 2\n",
    "# ----------------------------------------------------------------\n",
    "# TTA: where Talent Meet Tech.\n",
    "# ----------------------------------------------------------------\n",
    "        UserName = input (\"What is your name\")\n",
    "        print (UserName, \"You are most welcome to my website\")\n",
    "        UserGrade =  int(input(\"Enter your target grade\"))\n",
    "        print (\"Your target garde is\",UserGrade)\n",
    "        if UserGrade > 60:\n",
    "            print(\"Excellent, you passed\")\n",
    "        elif UserGrade == 40:\n",
    "            print(\"Somehow, you passed\")\n",
    "        elif UserGrade < 40:\n",
    "            print(\"Oops! You Failed\")"
   ]
  }
 ],
 "metadata": {
  "interpreter": {
   "hash": "0c57fb0be50ac96d80f1f59f4c2f0eb5f3b52c6e3d6ac6a5abe875596a3b45df"
  },
  "kernelspec": {
   "display_name": "Python 3.10.0 64-bit",
   "language": "python",
   "name": "python3"
  },
  "language_info": {
   "codemirror_mode": {
    "name": "ipython",
    "version": 3
   },
   "file_extension": ".py",
   "mimetype": "text/x-python",
   "name": "python",
   "nbconvert_exporter": "python",
   "pygments_lexer": "ipython3",
   "version": "3.10.0"
  },
  "orig_nbformat": 4
 },
 "nbformat": 4,
 "nbformat_minor": 2
}
